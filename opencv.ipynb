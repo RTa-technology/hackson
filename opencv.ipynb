{
 "cells": [
  {
   "cell_type": "code",
   "execution_count": null,
   "metadata": {},
   "outputs": [],
   "source": [
    "# opencvで胴体検地を実装する\n",
    "%matplotlib inline\n",
    "\n",
    "import cv2\n",
    "from IPython import display\n",
    "import matplotlib.pyplot as plt\n",
    "\n",
    "# 画像を読み込む\n",
    "vc = cv2.VideoCapture(0)\n",
    "\n",
    "if vc.isOpened():\n",
    "    print(\"カメラが起動しました\")\n",
    "else:\n",
    "    print(\"カメラが起動できませんでした\")\n",
    "\n",
    "# 動体検知のための背景画像を取得\n",
    "ret, frame = vc.read()\n",
    "bg = cv2.cvtColor(frame, cv2.COLOR_BGR2GRAY)\n",
    "bg = cv2.GaussianBlur(bg, (21, 21), 0)\n",
    "\n",
    "# 動体検知のための差分画像を取得\n",
    "while True:\n",
    "    ret, frame = vc.read()\n",
    "    if not ret:\n",
    "        break\n",
    "    fg = cv2.cvtColor(frame, cv2.COLOR_BGR2GRAY)\n",
    "    fg = cv2.GaussianBlur(fg, (21, 21), 0)\n",
    "    diff = cv2.absdiff(bg, fg)\n",
    "    diff[diff < 30] = 0\n",
    "    diff[diff >= 30] = 255\n",
    "    # # 差分画像を表示\n",
    "    # plt.imshow(diff, cmap=\"gray\")\n",
    "    # display.display(plt.gcf())\n",
    "    # display.clear_output(wait=True)\n",
    "    # 差分があればprint\n",
    "    if diff.sum() > 0:\n",
    "        print(\"動体検知\")\n",
    "        plt.imshow(diff, cmap=\"gray\")\n",
    "        display.display(plt.gcf())\n",
    "        display.clear_output(wait=True)"
   ]
  }
 ],
 "metadata": {
  "kernelspec": {
   "display_name": "Python 3.10.8 64-bit",
   "language": "python",
   "name": "python3"
  },
  "language_info": {
   "name": "python",
   "version": "3.10.8"
  },
  "orig_nbformat": 4,
  "vscode": {
   "interpreter": {
    "hash": "a08160b321e0122fd3bfc4850ed20543bfa21b038536e3a0e1c519735d1c3a84"
   }
  }
 },
 "nbformat": 4,
 "nbformat_minor": 2
}
